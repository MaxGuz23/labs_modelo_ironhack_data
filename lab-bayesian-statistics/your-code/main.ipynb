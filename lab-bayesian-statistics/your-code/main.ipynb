{
 "cells": [
  {
   "cell_type": "markdown",
   "metadata": {},
   "source": [
    "# Intro to Bayesian Statistics Lab\n",
    "\n",
    "Complete the following set of exercises to solidify your knowledge of Bayesian statistics and Bayesian data analysis."
   ]
  },
  {
   "cell_type": "code",
   "execution_count": 2,
   "metadata": {},
   "outputs": [],
   "source": [
    "import pandas as pd\n",
    "import numpy as np\n",
    "import matplotlib.pyplot as plt"
   ]
  },
  {
   "cell_type": "code",
   "execution_count": 3,
   "metadata": {},
   "outputs": [],
   "source": [
    "# De la clase tenemos la función\n",
    "def bayes_rule(priors, likelihoods):\n",
    "    marg = sum(np.multiply(priors, likelihoods))\n",
    "    post = np.divide(np.multiply(priors, likelihoods), marg)\n",
    "    return post"
   ]
  },
  {
   "cell_type": "markdown",
   "metadata": {},
   "source": [
    "## 1. Cookie Problem\n",
    "\n",
    "Suppose we have two bowls of cookies. Bowl 1 contains 30 vanilla cookies and 10 chocolate cookies. Bowl 2 contains 20 of each. You randomly pick one cookie out of one of the bowls, and it is vanilla. Use Bayes Theorem to calculate the probability that the vanilla cookie you picked came from Bowl 1?"
   ]
  },
  {
   "cell_type": "markdown",
   "metadata": {},
   "source": [
    "De la introducción podemos deducir las siguientes probabilidades:\n",
    "\n",
    "- P(bowl_1) = 1/2 = 0.5\n",
    "- P(bowl_2) = 1/2 = 0.5\n",
    "\n",
    "- P(v | bowl_1) = 30/40 = 0.75\n",
    "- P(c | bowl_1) = 10/40 = 0.25\n",
    "\n",
    "- P(v | bowl_2) = 20/40 = 0.5\n",
    "- P(c | bowl_2) = 20/40 = 0.5"
   ]
  },
  {
   "cell_type": "code",
   "execution_count": 10,
   "metadata": {},
   "outputs": [
    {
     "name": "stdout",
     "output_type": "stream",
     "text": [
      "Probability of cookie being from bowl 1 given it is vanilla: 60.0%\n"
     ]
    }
   ],
   "source": [
    "# Tenemos dos bowls con la misma probabilidad de ser elegidos\n",
    "priors = [1/2, 1/2]\n",
    "\n",
    "# Dependen del % que representen las galletas de vainilla de nuestro interés en cada bolsita\n",
    "likelihoods = [0.75, 0.5]\n",
    "\n",
    "bowl1, bowl2 = bayes_rule(priors, likelihoods)\n",
    "\n",
    "print(f'Probability of cookie being from bowl 1 given it is vanilla: {bowl1 * 100}%')"
   ]
  },
  {
   "cell_type": "markdown",
   "metadata": {},
   "source": [
    "What is the probability that it came from Bowl 2?"
   ]
  },
  {
   "cell_type": "code",
   "execution_count": 11,
   "metadata": {},
   "outputs": [
    {
     "name": "stdout",
     "output_type": "stream",
     "text": [
      "Probability of cookie being from bowl 2 given it is vanilla: 40.0%\n"
     ]
    }
   ],
   "source": [
    "print(f'Probability of cookie being from bowl 2 given it is vanilla: {bowl2 * 100}%')"
   ]
  },
  {
   "cell_type": "markdown",
   "metadata": {},
   "source": [
    "What if the cookie you had picked was chocolate? What are the probabilities that the chocolate cookie came from Bowl 1 and Bowl 2 respectively?"
   ]
  },
  {
   "cell_type": "code",
   "execution_count": 12,
   "metadata": {},
   "outputs": [
    {
     "name": "stdout",
     "output_type": "stream",
     "text": [
      "Bowl 1:33.33%\n",
      "Bowl 2:66.67%\n"
     ]
    }
   ],
   "source": [
    "likelihoods = [0.25, 0.5]\n",
    "bowl1, bowl2 = bayes_rule(priors, likelihoods)\n",
    "\n",
    "print(f'Bowl 1:{round(bowl1 * 100,2)}%\\nBowl 2:{round(bowl2 * 100,2)}%')"
   ]
  },
  {
   "cell_type": "markdown",
   "metadata": {},
   "source": [
    "## 2. Candy Problem\n",
    "\n",
    "Suppose you have two bags of candies:\n",
    "\n",
    "- In Bag 1, the mix of colors is:\n",
    "    - Brown - 30%\n",
    "    - Yellow - 20%\n",
    "    - Red - 20%\n",
    "    - Green - 10%\n",
    "    - Orange - 10%\n",
    "    - Tan - 10%\n",
    "    \n",
    "- In Bag 2, the mix of colors is:\n",
    "    - Blue - 24%\n",
    "    - Green - 20%\n",
    "    - Orange - 16%\n",
    "    - Yellow - 14%\n",
    "    - Red - 13%\n",
    "    - Brown - 13%\n",
    "    \n",
    "Not knowing which bag is which, you randomly draw one candy from each bag. One is yellow and one is green. What is the probability that the yellow one came from the Bag 1?\n",
    "\n",
    "*Hint: For the likelihoods, you will need to multiply the probabilities of drawing yellow from one bag and green from the other bag and vice versa.*"
   ]
  },
  {
   "cell_type": "code",
   "execution_count": 14,
   "metadata": {},
   "outputs": [
    {
     "name": "stdout",
     "output_type": "stream",
     "text": [
      "Probability that the yellow one came from the Bag 1: 74.07407407407408%\n"
     ]
    }
   ],
   "source": [
    "# De nuevo es .5 por que hay 2 bolsas con la misma probabilidad\n",
    "priors = [1/2, 1/2]\n",
    "\n",
    "# Estas dependen del % y de como se seleccionen\n",
    "# En la bolsa 1 el amarillo tiene 20% y el verde 10%\n",
    "# En la bolsa 2 el amarillo tiene 14% y el verde 20%\n",
    "\n",
    "# Nos interesa que el amarillo sea de la bolsa 1 (20%) y el verde de la bolsa 2 (20%)\n",
    "# La otra opción sería que el amarillo sea de la bolsa 2 (14%) y el verde de la bolsa 1 (10%)\n",
    "\n",
    "likelihoods = [(.2*.2*.5), (.1*.14*.5)]\n",
    "\n",
    "bag1, bag2 = bayes_rule(priors, likelihoods)\n",
    "\n",
    "print(f'Probability that the yellow one came from the Bag 1: {bag1 * 100}%')"
   ]
  },
  {
   "cell_type": "markdown",
   "metadata": {},
   "source": [
    "What is the probability that the yellow candy came from Bag 2?"
   ]
  },
  {
   "cell_type": "code",
   "execution_count": 15,
   "metadata": {},
   "outputs": [
    {
     "name": "stdout",
     "output_type": "stream",
     "text": [
      "Probability that the yellow one came from the Bag 1: 25.925925925925924%\n"
     ]
    }
   ],
   "source": [
    "print(f'Probability that the yellow one came from the Bag 1: {bag2 * 100}%')"
   ]
  },
  {
   "cell_type": "markdown",
   "metadata": {},
   "source": [
    "What are the probabilities that the green one came from Bag 1 and Bag 2 respectively?"
   ]
  },
  {
   "cell_type": "code",
   "execution_count": 16,
   "metadata": {},
   "outputs": [
    {
     "name": "stdout",
     "output_type": "stream",
     "text": [
      "Bag 1:0.3333333333333333\n",
      "Bag 2:0.6666666666666666\n"
     ]
    }
   ],
   "source": [
    "priors = [1/2,1/2]\n",
    "likelihoods = [(.1*.5), (.2*.5)]\n",
    "\n",
    "bag1,bag2=bayes_rule(priors, likelihoods)\n",
    "\n",
    "print(f'Bag 1:{bag1}\\nBag 2:{bag2}')"
   ]
  },
  {
   "cell_type": "markdown",
   "metadata": {},
   "source": [
    "## 3. Monty Hall Problem\n",
    "\n",
    "Suppose you are a contestant on the popular game show *Let's Make a Deal*. The host of the show (Monty Hall) presents you with three doors - Door A, Door B, and Door C. He tells you that there is a sports car behind one of them and if you choose the correct one, you win the car!\n",
    "\n",
    "You select Door A, but then Monty makes things a little more interesting. He opens Door B to reveal that there is no sports car behind it and asks you if you would like to stick with your choice of Door A or switch your choice to Door C. Given this new information, what are the probabilities of you winning the car if you stick with Door A versus if you switch to Door C?"
   ]
  },
  {
   "cell_type": "code",
   "execution_count": 48,
   "metadata": {},
   "outputs": [
    {
     "name": "stdout",
     "output_type": "stream",
     "text": [
      "A:0.3333333333333333\n",
      "B:0.0\n",
      "C:0.6666666666666666\n"
     ]
    }
   ],
   "source": [
    "# Al inicio tenemos las 3 puertas con la misma proba\n",
    "priors = [1/3,1/3,1/3]\n",
    "\n",
    "# Si se abre la B su proba de tener el premio ahora es 0 y su parte se reparte en la opción restante\n",
    "likelihoods =  [1/3, 0, 2/3]\n",
    "\n",
    "p1, p2, p3 = bayes_rule(priors, likelihoods)\n",
    "\n",
    "print(f'A:{p1}\\nB:{p2}\\nC:{p3}')"
   ]
  },
  {
   "cell_type": "markdown",
   "metadata": {},
   "source": [
    "## 4. Bayesian Analysis \n",
    "\n",
    "Suppose you work for a landscaping company, and they want to advertise their service online. They create an ad and sit back waiting for the money to roll in. On the first day, the ad sends 100 visitors to the site and 14 of them sign up for landscaping services. Create a generative model to come up with the posterior distribution and produce a visualization of what the posterior distribution would look like given the observed data."
   ]
  },
  {
   "cell_type": "code",
   "execution_count": 17,
   "metadata": {},
   "outputs": [
    {
     "data": {
      "image/png": "[encoded data removed]",
      "text/plain": [
       "<Figure size 432x288 with 1 Axes>"
      ]
     },
     "metadata": {
      "needs_background": "light"
     },
     "output_type": "display_data"
    }
   ],
   "source": [
    "# Generamos los valores para el modelo a prior\n",
    "n_draws = 100_000\n",
    "prior = pd.Series(np.random.uniform(0, 1, size=n_draws))\n",
    "\n",
    "# Para cada uno corremos una simulación de 100 visitantes\n",
    "def generative_model(param):\n",
    "    result = np.random.binomial(100, param)\n",
    "    return result\n",
    "\n",
    "sim_data = list()\n",
    "for p in prior:\n",
    "    sim_data.append(generative_model(p))\n",
    "\n",
    "# De los modelos generados nos quedamos con los que cumplen los 14 exitos    \n",
    "posterior = prior[list(map(lambda x: x == 14, sim_data))]\n",
    "posterior.hist()\n",
    "plt.show()"
   ]
  },
  {
   "cell_type": "markdown",
   "metadata": {},
   "source": [
    "Produce a set of descriptive statistics for the posterior distribution."
   ]
  },
  {
   "cell_type": "code",
   "execution_count": 55,
   "metadata": {},
   "outputs": [
    {
     "data": {
      "text/plain": [
       "count    945.000000\n",
       "mean       0.148067\n",
       "std        0.036472\n",
       "min        0.059627\n",
       "25%        0.122322\n",
       "50%        0.143890\n",
       "75%        0.173812\n",
       "max        0.280661\n",
       "dtype: float64"
      ]
     },
     "execution_count": 55,
     "metadata": {},
     "output_type": "execute_result"
    }
   ],
   "source": [
    "posterior.describe()"
   ]
  },
  {
   "cell_type": "markdown",
   "metadata": {},
   "source": [
    "What is the 90% credible interval range?"
   ]
  },
  {
   "cell_type": "code",
   "execution_count": 18,
   "metadata": {},
   "outputs": [
    {
     "name": "stdout",
     "output_type": "stream",
     "text": [
      "( 0.08549836041727475 | 0.21910619644458987 )\n"
     ]
    }
   ],
   "source": [
    "print('(',posterior.quantile(.025), '|', posterior.quantile(.975),')')"
   ]
  },
  {
   "cell_type": "markdown",
   "metadata": {},
   "source": [
    "What is the Maximum Likelihood Estimate?"
   ]
  },
  {
   "cell_type": "code",
   "execution_count": 19,
   "metadata": {},
   "outputs": [
    {
     "name": "stdout",
     "output_type": "stream",
     "text": [
      "Maximum Likelihood Estimate:  0.14 | 0.12980269989615784\n"
     ]
    }
   ],
   "source": [
    "rounded = posterior.round(2)\n",
    "mode = rounded.mode()[0]\n",
    "probability = list(rounded).count(mode)/len(rounded)\n",
    "print('Maximum Likelihood Estimate: ', mode, '|',probability)"
   ]
  }
 ],
 "metadata": {
  "kernelspec": {
   "display_name": "Python 3 (ipykernel)",
   "language": "python",
   "name": "python3"
  },
  "language_info": {
   "codemirror_mode": {
    "name": "ipython",
    "version": 3
   },
   "file_extension": ".py",
   "mimetype": "text/x-python",
   "name": "python",
   "nbconvert_exporter": "python",
   "pygments_lexer": "ipython3",
   "version": "3.8.12"
  }
 },
 "nbformat": 4,
 "nbformat_minor": 4
}
